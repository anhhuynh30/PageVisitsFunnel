{
 "cells": [
  {
   "cell_type": "markdown",
   "metadata": {},
   "source": [
    "# Page Visits Funnel"
   ]
  },
  {
   "cell_type": "code",
   "execution_count": 1,
   "metadata": {},
   "outputs": [],
   "source": [
    "import pandas as pd"
   ]
  },
  {
   "cell_type": "code",
   "execution_count": 2,
   "metadata": {},
   "outputs": [],
   "source": [
    "# Loading the 4 DataFrames\n",
    "visits = pd.read_csv('visit.csv', parse_dates=[1]) # parse_dates: turn column 1 into real datetime types\n",
    "cart = pd.read_csv('cart.csv', parse_dates=[1])\n",
    "checkout = pd.read_csv('checkout.csv', parse_dates=[1])\n",
    "purchase = pd.read_csv('purchase.csv', parse_dates=[1])"
   ]
  },
  {
   "cell_type": "markdown",
   "metadata": {},
   "source": [
    "## Task 1: Inspecting the DataFrames"
   ]
  },
  {
   "cell_type": "code",
   "execution_count": 3,
   "metadata": {},
   "outputs": [
    {
     "data": {
      "text/html": [
       "<div>\n",
       "<style scoped>\n",
       "    .dataframe tbody tr th:only-of-type {\n",
       "        vertical-align: middle;\n",
       "    }\n",
       "\n",
       "    .dataframe tbody tr th {\n",
       "        vertical-align: top;\n",
       "    }\n",
       "\n",
       "    .dataframe thead th {\n",
       "        text-align: right;\n",
       "    }\n",
       "</style>\n",
       "<table border=\"1\" class=\"dataframe\">\n",
       "  <thead>\n",
       "    <tr style=\"text-align: right;\">\n",
       "      <th></th>\n",
       "      <th>user_id</th>\n",
       "      <th>visit_time</th>\n",
       "    </tr>\n",
       "  </thead>\n",
       "  <tbody>\n",
       "    <tr>\n",
       "      <th>0</th>\n",
       "      <td>943647ef-3682-4750-a2e1-918ba6f16188</td>\n",
       "      <td>2017-04-07 15:14:00</td>\n",
       "    </tr>\n",
       "    <tr>\n",
       "      <th>1</th>\n",
       "      <td>0c3a3dd0-fb64-4eac-bf84-ba069ce409f2</td>\n",
       "      <td>2017-01-26 14:24:00</td>\n",
       "    </tr>\n",
       "    <tr>\n",
       "      <th>2</th>\n",
       "      <td>6e0b2d60-4027-4d9a-babd-0e7d40859fb1</td>\n",
       "      <td>2017-08-20 08:23:00</td>\n",
       "    </tr>\n",
       "    <tr>\n",
       "      <th>3</th>\n",
       "      <td>6879527e-c5a6-4d14-b2da-50b85212b0ab</td>\n",
       "      <td>2017-11-04 18:15:00</td>\n",
       "    </tr>\n",
       "    <tr>\n",
       "      <th>4</th>\n",
       "      <td>a84327ff-5daa-4ba1-b789-d5b4caf81e96</td>\n",
       "      <td>2017-02-27 11:25:00</td>\n",
       "    </tr>\n",
       "  </tbody>\n",
       "</table>\n",
       "</div>"
      ],
      "text/plain": [
       "                                user_id          visit_time\n",
       "0  943647ef-3682-4750-a2e1-918ba6f16188 2017-04-07 15:14:00\n",
       "1  0c3a3dd0-fb64-4eac-bf84-ba069ce409f2 2017-01-26 14:24:00\n",
       "2  6e0b2d60-4027-4d9a-babd-0e7d40859fb1 2017-08-20 08:23:00\n",
       "3  6879527e-c5a6-4d14-b2da-50b85212b0ab 2017-11-04 18:15:00\n",
       "4  a84327ff-5daa-4ba1-b789-d5b4caf81e96 2017-02-27 11:25:00"
      ]
     },
     "execution_count": 3,
     "metadata": {},
     "output_type": "execute_result"
    }
   ],
   "source": [
    "visits.head()"
   ]
  },
  {
   "cell_type": "code",
   "execution_count": 7,
   "metadata": {},
   "outputs": [
    {
     "data": {
      "text/plain": [
       "(2000, 2)"
      ]
     },
     "execution_count": 7,
     "metadata": {},
     "output_type": "execute_result"
    }
   ],
   "source": [
    "visits.shape # visits df has 2000 rows and 2 columns"
   ]
  },
  {
   "cell_type": "code",
   "execution_count": 12,
   "metadata": {},
   "outputs": [
    {
     "data": {
      "text/html": [
       "<div>\n",
       "<style scoped>\n",
       "    .dataframe tbody tr th:only-of-type {\n",
       "        vertical-align: middle;\n",
       "    }\n",
       "\n",
       "    .dataframe tbody tr th {\n",
       "        vertical-align: top;\n",
       "    }\n",
       "\n",
       "    .dataframe thead th {\n",
       "        text-align: right;\n",
       "    }\n",
       "</style>\n",
       "<table border=\"1\" class=\"dataframe\">\n",
       "  <thead>\n",
       "    <tr style=\"text-align: right;\">\n",
       "      <th></th>\n",
       "      <th>user_id</th>\n",
       "      <th>cart_time</th>\n",
       "    </tr>\n",
       "  </thead>\n",
       "  <tbody>\n",
       "    <tr>\n",
       "      <th>0</th>\n",
       "      <td>2be90e7c-9cca-44e0-bcc5-124b945ff168</td>\n",
       "      <td>2017-11-07 20:45:00</td>\n",
       "    </tr>\n",
       "    <tr>\n",
       "      <th>1</th>\n",
       "      <td>4397f73f-1da3-4ab3-91af-762792e25973</td>\n",
       "      <td>2017-05-27 01:35:00</td>\n",
       "    </tr>\n",
       "    <tr>\n",
       "      <th>2</th>\n",
       "      <td>a9db3d4b-0a0a-4398-a55a-ebb2c7adf663</td>\n",
       "      <td>2017-03-04 10:38:00</td>\n",
       "    </tr>\n",
       "    <tr>\n",
       "      <th>3</th>\n",
       "      <td>b594862a-36c5-47d5-b818-6e9512b939b3</td>\n",
       "      <td>2017-09-27 08:22:00</td>\n",
       "    </tr>\n",
       "    <tr>\n",
       "      <th>4</th>\n",
       "      <td>a68a16e2-94f0-4ce8-8ce3-784af0bbb974</td>\n",
       "      <td>2017-07-26 15:48:00</td>\n",
       "    </tr>\n",
       "  </tbody>\n",
       "</table>\n",
       "</div>"
      ],
      "text/plain": [
       "                                user_id           cart_time\n",
       "0  2be90e7c-9cca-44e0-bcc5-124b945ff168 2017-11-07 20:45:00\n",
       "1  4397f73f-1da3-4ab3-91af-762792e25973 2017-05-27 01:35:00\n",
       "2  a9db3d4b-0a0a-4398-a55a-ebb2c7adf663 2017-03-04 10:38:00\n",
       "3  b594862a-36c5-47d5-b818-6e9512b939b3 2017-09-27 08:22:00\n",
       "4  a68a16e2-94f0-4ce8-8ce3-784af0bbb974 2017-07-26 15:48:00"
      ]
     },
     "execution_count": 12,
     "metadata": {},
     "output_type": "execute_result"
    }
   ],
   "source": [
    "cart.head()"
   ]
  },
  {
   "cell_type": "code",
   "execution_count": 11,
   "metadata": {},
   "outputs": [
    {
     "data": {
      "text/plain": [
       "(348, 2)"
      ]
     },
     "execution_count": 11,
     "metadata": {},
     "output_type": "execute_result"
    }
   ],
   "source": [
    "cart.shape # cart df has 348 rows and 2 columns"
   ]
  },
  {
   "cell_type": "code",
   "execution_count": 13,
   "metadata": {},
   "outputs": [
    {
     "data": {
      "text/html": [
       "<div>\n",
       "<style scoped>\n",
       "    .dataframe tbody tr th:only-of-type {\n",
       "        vertical-align: middle;\n",
       "    }\n",
       "\n",
       "    .dataframe tbody tr th {\n",
       "        vertical-align: top;\n",
       "    }\n",
       "\n",
       "    .dataframe thead th {\n",
       "        text-align: right;\n",
       "    }\n",
       "</style>\n",
       "<table border=\"1\" class=\"dataframe\">\n",
       "  <thead>\n",
       "    <tr style=\"text-align: right;\">\n",
       "      <th></th>\n",
       "      <th>user_id</th>\n",
       "      <th>checkout_time</th>\n",
       "    </tr>\n",
       "  </thead>\n",
       "  <tbody>\n",
       "    <tr>\n",
       "      <th>0</th>\n",
       "      <td>d33bdc47-4afa-45bc-b4e4-dbe948e34c0d</td>\n",
       "      <td>2017-06-25 09:29:00</td>\n",
       "    </tr>\n",
       "    <tr>\n",
       "      <th>1</th>\n",
       "      <td>4ac186f0-9954-4fea-8a27-c081e428e34e</td>\n",
       "      <td>2017-04-07 20:11:00</td>\n",
       "    </tr>\n",
       "    <tr>\n",
       "      <th>2</th>\n",
       "      <td>3c9c78a7-124a-4b77-8d2e-e1926e011e7d</td>\n",
       "      <td>2017-07-13 11:38:00</td>\n",
       "    </tr>\n",
       "    <tr>\n",
       "      <th>3</th>\n",
       "      <td>89fe330a-8966-4756-8f7c-3bdbcd47279a</td>\n",
       "      <td>2017-04-20 16:15:00</td>\n",
       "    </tr>\n",
       "    <tr>\n",
       "      <th>4</th>\n",
       "      <td>3ccdaf69-2d30-40de-b083-51372881aedd</td>\n",
       "      <td>2017-01-08 20:52:00</td>\n",
       "    </tr>\n",
       "  </tbody>\n",
       "</table>\n",
       "</div>"
      ],
      "text/plain": [
       "                                user_id       checkout_time\n",
       "0  d33bdc47-4afa-45bc-b4e4-dbe948e34c0d 2017-06-25 09:29:00\n",
       "1  4ac186f0-9954-4fea-8a27-c081e428e34e 2017-04-07 20:11:00\n",
       "2  3c9c78a7-124a-4b77-8d2e-e1926e011e7d 2017-07-13 11:38:00\n",
       "3  89fe330a-8966-4756-8f7c-3bdbcd47279a 2017-04-20 16:15:00\n",
       "4  3ccdaf69-2d30-40de-b083-51372881aedd 2017-01-08 20:52:00"
      ]
     },
     "execution_count": 13,
     "metadata": {},
     "output_type": "execute_result"
    }
   ],
   "source": [
    "checkout.head()"
   ]
  },
  {
   "cell_type": "code",
   "execution_count": 14,
   "metadata": {},
   "outputs": [
    {
     "data": {
      "text/plain": [
       "(360, 2)"
      ]
     },
     "execution_count": 14,
     "metadata": {},
     "output_type": "execute_result"
    }
   ],
   "source": [
    "checkout.shape #checkout df has 360 rows and 2 columns"
   ]
  },
  {
   "cell_type": "code",
   "execution_count": 15,
   "metadata": {},
   "outputs": [
    {
     "data": {
      "text/html": [
       "<div>\n",
       "<style scoped>\n",
       "    .dataframe tbody tr th:only-of-type {\n",
       "        vertical-align: middle;\n",
       "    }\n",
       "\n",
       "    .dataframe tbody tr th {\n",
       "        vertical-align: top;\n",
       "    }\n",
       "\n",
       "    .dataframe thead th {\n",
       "        text-align: right;\n",
       "    }\n",
       "</style>\n",
       "<table border=\"1\" class=\"dataframe\">\n",
       "  <thead>\n",
       "    <tr style=\"text-align: right;\">\n",
       "      <th></th>\n",
       "      <th>user_id</th>\n",
       "      <th>purchase_time</th>\n",
       "    </tr>\n",
       "  </thead>\n",
       "  <tbody>\n",
       "    <tr>\n",
       "      <th>0</th>\n",
       "      <td>4b44ace4-2721-47a0-b24b-15fbfa2abf85</td>\n",
       "      <td>2017-05-11 04:25:00</td>\n",
       "    </tr>\n",
       "    <tr>\n",
       "      <th>1</th>\n",
       "      <td>02e684ae-a448-408f-a9ff-dcb4a5c99aac</td>\n",
       "      <td>2017-09-05 08:45:00</td>\n",
       "    </tr>\n",
       "    <tr>\n",
       "      <th>2</th>\n",
       "      <td>4b4bc391-749e-4b90-ab8f-4f6e3c84d6dc</td>\n",
       "      <td>2017-11-20 20:49:00</td>\n",
       "    </tr>\n",
       "    <tr>\n",
       "      <th>3</th>\n",
       "      <td>a5dbb25f-3c36-4103-9030-9f7c6241cd8d</td>\n",
       "      <td>2017-01-22 15:18:00</td>\n",
       "    </tr>\n",
       "    <tr>\n",
       "      <th>4</th>\n",
       "      <td>46a3186d-7f5a-4ab9-87af-84d05bfd4867</td>\n",
       "      <td>2017-06-11 11:32:00</td>\n",
       "    </tr>\n",
       "  </tbody>\n",
       "</table>\n",
       "</div>"
      ],
      "text/plain": [
       "                                user_id       purchase_time\n",
       "0  4b44ace4-2721-47a0-b24b-15fbfa2abf85 2017-05-11 04:25:00\n",
       "1  02e684ae-a448-408f-a9ff-dcb4a5c99aac 2017-09-05 08:45:00\n",
       "2  4b4bc391-749e-4b90-ab8f-4f6e3c84d6dc 2017-11-20 20:49:00\n",
       "3  a5dbb25f-3c36-4103-9030-9f7c6241cd8d 2017-01-22 15:18:00\n",
       "4  46a3186d-7f5a-4ab9-87af-84d05bfd4867 2017-06-11 11:32:00"
      ]
     },
     "execution_count": 15,
     "metadata": {},
     "output_type": "execute_result"
    }
   ],
   "source": [
    "purchase.head()"
   ]
  },
  {
   "cell_type": "code",
   "execution_count": 16,
   "metadata": {},
   "outputs": [
    {
     "data": {
      "text/plain": [
       "(252, 2)"
      ]
     },
     "execution_count": 16,
     "metadata": {},
     "output_type": "execute_result"
    }
   ],
   "source": [
    "purchase.shape # purchase df has 252 rows and 2 columns"
   ]
  },
  {
   "cell_type": "markdown",
   "metadata": {},
   "source": [
    "## Task 2: Combining visits and cart using a left merge.\n",
    "What percent of users who visited **Cool T-Shirts Inc.** ended up **not placing** a t-shirt in their cart?"
   ]
  },
  {
   "cell_type": "code",
   "execution_count": 17,
   "metadata": {},
   "outputs": [],
   "source": [
    "# Merge visits and cart\n",
    "visits_cart = pd.merge(visits, cart, how = 'left')"
   ]
  },
  {
   "cell_type": "code",
   "execution_count": 18,
   "metadata": {},
   "outputs": [
    {
     "data": {
      "text/html": [
       "<div>\n",
       "<style scoped>\n",
       "    .dataframe tbody tr th:only-of-type {\n",
       "        vertical-align: middle;\n",
       "    }\n",
       "\n",
       "    .dataframe tbody tr th {\n",
       "        vertical-align: top;\n",
       "    }\n",
       "\n",
       "    .dataframe thead th {\n",
       "        text-align: right;\n",
       "    }\n",
       "</style>\n",
       "<table border=\"1\" class=\"dataframe\">\n",
       "  <thead>\n",
       "    <tr style=\"text-align: right;\">\n",
       "      <th></th>\n",
       "      <th>user_id</th>\n",
       "      <th>visit_time</th>\n",
       "      <th>cart_time</th>\n",
       "    </tr>\n",
       "  </thead>\n",
       "  <tbody>\n",
       "    <tr>\n",
       "      <th>0</th>\n",
       "      <td>943647ef-3682-4750-a2e1-918ba6f16188</td>\n",
       "      <td>2017-04-07 15:14:00</td>\n",
       "      <td>NaT</td>\n",
       "    </tr>\n",
       "    <tr>\n",
       "      <th>1</th>\n",
       "      <td>0c3a3dd0-fb64-4eac-bf84-ba069ce409f2</td>\n",
       "      <td>2017-01-26 14:24:00</td>\n",
       "      <td>2017-01-26 14:44:00</td>\n",
       "    </tr>\n",
       "    <tr>\n",
       "      <th>2</th>\n",
       "      <td>6e0b2d60-4027-4d9a-babd-0e7d40859fb1</td>\n",
       "      <td>2017-08-20 08:23:00</td>\n",
       "      <td>2017-08-20 08:31:00</td>\n",
       "    </tr>\n",
       "    <tr>\n",
       "      <th>3</th>\n",
       "      <td>6879527e-c5a6-4d14-b2da-50b85212b0ab</td>\n",
       "      <td>2017-11-04 18:15:00</td>\n",
       "      <td>NaT</td>\n",
       "    </tr>\n",
       "    <tr>\n",
       "      <th>4</th>\n",
       "      <td>a84327ff-5daa-4ba1-b789-d5b4caf81e96</td>\n",
       "      <td>2017-02-27 11:25:00</td>\n",
       "      <td>NaT</td>\n",
       "    </tr>\n",
       "  </tbody>\n",
       "</table>\n",
       "</div>"
      ],
      "text/plain": [
       "                                user_id          visit_time  \\\n",
       "0  943647ef-3682-4750-a2e1-918ba6f16188 2017-04-07 15:14:00   \n",
       "1  0c3a3dd0-fb64-4eac-bf84-ba069ce409f2 2017-01-26 14:24:00   \n",
       "2  6e0b2d60-4027-4d9a-babd-0e7d40859fb1 2017-08-20 08:23:00   \n",
       "3  6879527e-c5a6-4d14-b2da-50b85212b0ab 2017-11-04 18:15:00   \n",
       "4  a84327ff-5daa-4ba1-b789-d5b4caf81e96 2017-02-27 11:25:00   \n",
       "\n",
       "            cart_time  \n",
       "0                 NaT  \n",
       "1 2017-01-26 14:44:00  \n",
       "2 2017-08-20 08:31:00  \n",
       "3                 NaT  \n",
       "4                 NaT  "
      ]
     },
     "execution_count": 18,
     "metadata": {},
     "output_type": "execute_result"
    }
   ],
   "source": [
    "visits_cart.head()"
   ]
  },
  {
   "cell_type": "code",
   "execution_count": 19,
   "metadata": {},
   "outputs": [
    {
     "data": {
      "text/plain": [
       "(2000, 3)"
      ]
     },
     "execution_count": 19,
     "metadata": {},
     "output_type": "execute_result"
    }
   ],
   "source": [
    "visits_cart.shape"
   ]
  },
  {
   "cell_type": "code",
   "execution_count": 25,
   "metadata": {},
   "outputs": [
    {
     "name": "stdout",
     "output_type": "stream",
     "text": [
      "There are 1652 timestamps are null in the column cart_time.\n"
     ]
    }
   ],
   "source": [
    "cart_time_null = len(visits_cart[visits_cart.cart_time.isnull()])\n",
    "print(f'There are {cart_time_null} timestamps are null in the column cart_time.')"
   ]
  },
  {
   "cell_type": "markdown",
   "metadata": {},
   "source": [
    "> There are in total *2000* customers visited **CoolTShirts.com**. Out of these *2000* customers, there are *1652* customers that did not add ant t-shirt to their cart."
   ]
  },
  {
   "cell_type": "code",
   "execution_count": 45,
   "metadata": {},
   "outputs": [
    {
     "name": "stdout",
     "output_type": "stream",
     "text": [
      "82.60% of the users visited CoolTShirts.com but ended up not placing a t-shirt in their cart.\n"
     ]
    }
   ],
   "source": [
    "# Percentage of users who visited Cool T-Shirts Inc. ended up not placing a t-shirt in their cart\n",
    "visits_not_cart_percent = (float(cart_time_null) / len(visits_cart)) * 100\n",
    "print(f'{visits_not_cart_percent:.2f}% of the users visited CoolTShirts.com but ended up not placing a t-shirt in their cart.')"
   ]
  },
  {
   "cell_type": "markdown",
   "metadata": {},
   "source": [
    "## Task 3: Combining cart and checkout\n",
    "What percentage of users put items in their cart, but did not proceed to checkout?"
   ]
  },
  {
   "cell_type": "code",
   "execution_count": 28,
   "metadata": {},
   "outputs": [],
   "source": [
    "# Merge cart and checkout\n",
    "cart_checkout = pd.merge(cart, checkout, how = 'left')"
   ]
  },
  {
   "cell_type": "code",
   "execution_count": 29,
   "metadata": {},
   "outputs": [
    {
     "data": {
      "text/html": [
       "<div>\n",
       "<style scoped>\n",
       "    .dataframe tbody tr th:only-of-type {\n",
       "        vertical-align: middle;\n",
       "    }\n",
       "\n",
       "    .dataframe tbody tr th {\n",
       "        vertical-align: top;\n",
       "    }\n",
       "\n",
       "    .dataframe thead th {\n",
       "        text-align: right;\n",
       "    }\n",
       "</style>\n",
       "<table border=\"1\" class=\"dataframe\">\n",
       "  <thead>\n",
       "    <tr style=\"text-align: right;\">\n",
       "      <th></th>\n",
       "      <th>user_id</th>\n",
       "      <th>cart_time</th>\n",
       "      <th>checkout_time</th>\n",
       "    </tr>\n",
       "  </thead>\n",
       "  <tbody>\n",
       "    <tr>\n",
       "      <th>0</th>\n",
       "      <td>2be90e7c-9cca-44e0-bcc5-124b945ff168</td>\n",
       "      <td>2017-11-07 20:45:00</td>\n",
       "      <td>2017-11-07 21:14:00</td>\n",
       "    </tr>\n",
       "    <tr>\n",
       "      <th>1</th>\n",
       "      <td>2be90e7c-9cca-44e0-bcc5-124b945ff168</td>\n",
       "      <td>2017-11-07 20:45:00</td>\n",
       "      <td>2017-11-07 20:50:00</td>\n",
       "    </tr>\n",
       "    <tr>\n",
       "      <th>2</th>\n",
       "      <td>2be90e7c-9cca-44e0-bcc5-124b945ff168</td>\n",
       "      <td>2017-11-07 20:45:00</td>\n",
       "      <td>2017-11-07 21:11:00</td>\n",
       "    </tr>\n",
       "    <tr>\n",
       "      <th>3</th>\n",
       "      <td>4397f73f-1da3-4ab3-91af-762792e25973</td>\n",
       "      <td>2017-05-27 01:35:00</td>\n",
       "      <td>NaT</td>\n",
       "    </tr>\n",
       "    <tr>\n",
       "      <th>4</th>\n",
       "      <td>a9db3d4b-0a0a-4398-a55a-ebb2c7adf663</td>\n",
       "      <td>2017-03-04 10:38:00</td>\n",
       "      <td>2017-03-04 11:04:00</td>\n",
       "    </tr>\n",
       "  </tbody>\n",
       "</table>\n",
       "</div>"
      ],
      "text/plain": [
       "                                user_id           cart_time  \\\n",
       "0  2be90e7c-9cca-44e0-bcc5-124b945ff168 2017-11-07 20:45:00   \n",
       "1  2be90e7c-9cca-44e0-bcc5-124b945ff168 2017-11-07 20:45:00   \n",
       "2  2be90e7c-9cca-44e0-bcc5-124b945ff168 2017-11-07 20:45:00   \n",
       "3  4397f73f-1da3-4ab3-91af-762792e25973 2017-05-27 01:35:00   \n",
       "4  a9db3d4b-0a0a-4398-a55a-ebb2c7adf663 2017-03-04 10:38:00   \n",
       "\n",
       "        checkout_time  \n",
       "0 2017-11-07 21:14:00  \n",
       "1 2017-11-07 20:50:00  \n",
       "2 2017-11-07 21:11:00  \n",
       "3                 NaT  \n",
       "4 2017-03-04 11:04:00  "
      ]
     },
     "execution_count": 29,
     "metadata": {},
     "output_type": "execute_result"
    }
   ],
   "source": [
    "cart_checkout.head()"
   ]
  },
  {
   "cell_type": "code",
   "execution_count": 31,
   "metadata": {},
   "outputs": [
    {
     "data": {
      "text/plain": [
       "(482, 3)"
      ]
     },
     "execution_count": 31,
     "metadata": {},
     "output_type": "execute_result"
    }
   ],
   "source": [
    "cart_checkout.shape"
   ]
  },
  {
   "cell_type": "code",
   "execution_count": 32,
   "metadata": {},
   "outputs": [
    {
     "name": "stdout",
     "output_type": "stream",
     "text": [
      "There are 122 timestamps are null in the column checkout_time.\n"
     ]
    }
   ],
   "source": [
    "checkout_time_null = len(cart_checkout[cart_checkout.checkout_time.isnull()])\n",
    "print(f'There are {checkout_time_null} timestamps are null in the column checkout_time.')"
   ]
  },
  {
   "cell_type": "markdown",
   "metadata": {},
   "source": [
    "> There are in total *482* customers placed a t-shirt to their cart. Out of these *482* customers, there are *122* customers that did not proceed to checkout."
   ]
  },
  {
   "cell_type": "code",
   "execution_count": 35,
   "metadata": {},
   "outputs": [
    {
     "name": "stdout",
     "output_type": "stream",
     "text": [
      "25.31% of the users placed a t-shirt in their cart but did not proceed to checkout.\n"
     ]
    }
   ],
   "source": [
    "# Percentage of users who placed a t-shirt in their cart but ended up not checking out\n",
    "cart_not_checkout_percent = (float(checkout_time_null) / len(cart_checkout)) * 100\n",
    "print(f'{cart_not_checkout_percent:.2f}% of the users placed a t-shirt in their cart but did not proceed to checkout.')"
   ]
  },
  {
   "cell_type": "markdown",
   "metadata": {},
   "source": [
    "## Task 4: Combining checkout and purchase\n",
    "What percentage of users proceeded to checkout, but did not purchase a t-shirt?\n"
   ]
  },
  {
   "cell_type": "code",
   "execution_count": 40,
   "metadata": {},
   "outputs": [],
   "source": [
    "checkout_purchase = pd.merge(checkout, purchase, how = 'left')"
   ]
  },
  {
   "cell_type": "code",
   "execution_count": 41,
   "metadata": {},
   "outputs": [
    {
     "data": {
      "text/html": [
       "<div>\n",
       "<style scoped>\n",
       "    .dataframe tbody tr th:only-of-type {\n",
       "        vertical-align: middle;\n",
       "    }\n",
       "\n",
       "    .dataframe tbody tr th {\n",
       "        vertical-align: top;\n",
       "    }\n",
       "\n",
       "    .dataframe thead th {\n",
       "        text-align: right;\n",
       "    }\n",
       "</style>\n",
       "<table border=\"1\" class=\"dataframe\">\n",
       "  <thead>\n",
       "    <tr style=\"text-align: right;\">\n",
       "      <th></th>\n",
       "      <th>user_id</th>\n",
       "      <th>checkout_time</th>\n",
       "      <th>purchase_time</th>\n",
       "    </tr>\n",
       "  </thead>\n",
       "  <tbody>\n",
       "    <tr>\n",
       "      <th>0</th>\n",
       "      <td>d33bdc47-4afa-45bc-b4e4-dbe948e34c0d</td>\n",
       "      <td>2017-06-25 09:29:00</td>\n",
       "      <td>2017-06-25 09:49:00</td>\n",
       "    </tr>\n",
       "    <tr>\n",
       "      <th>1</th>\n",
       "      <td>d33bdc47-4afa-45bc-b4e4-dbe948e34c0d</td>\n",
       "      <td>2017-06-25 09:29:00</td>\n",
       "      <td>2017-06-25 09:56:00</td>\n",
       "    </tr>\n",
       "    <tr>\n",
       "      <th>2</th>\n",
       "      <td>d33bdc47-4afa-45bc-b4e4-dbe948e34c0d</td>\n",
       "      <td>2017-06-25 09:29:00</td>\n",
       "      <td>2017-06-25 09:57:00</td>\n",
       "    </tr>\n",
       "    <tr>\n",
       "      <th>3</th>\n",
       "      <td>4ac186f0-9954-4fea-8a27-c081e428e34e</td>\n",
       "      <td>2017-04-07 20:11:00</td>\n",
       "      <td>NaT</td>\n",
       "    </tr>\n",
       "    <tr>\n",
       "      <th>4</th>\n",
       "      <td>3c9c78a7-124a-4b77-8d2e-e1926e011e7d</td>\n",
       "      <td>2017-07-13 11:38:00</td>\n",
       "      <td>NaT</td>\n",
       "    </tr>\n",
       "  </tbody>\n",
       "</table>\n",
       "</div>"
      ],
      "text/plain": [
       "                                user_id       checkout_time  \\\n",
       "0  d33bdc47-4afa-45bc-b4e4-dbe948e34c0d 2017-06-25 09:29:00   \n",
       "1  d33bdc47-4afa-45bc-b4e4-dbe948e34c0d 2017-06-25 09:29:00   \n",
       "2  d33bdc47-4afa-45bc-b4e4-dbe948e34c0d 2017-06-25 09:29:00   \n",
       "3  4ac186f0-9954-4fea-8a27-c081e428e34e 2017-04-07 20:11:00   \n",
       "4  3c9c78a7-124a-4b77-8d2e-e1926e011e7d 2017-07-13 11:38:00   \n",
       "\n",
       "        purchase_time  \n",
       "0 2017-06-25 09:49:00  \n",
       "1 2017-06-25 09:56:00  \n",
       "2 2017-06-25 09:57:00  \n",
       "3                 NaT  \n",
       "4                 NaT  "
      ]
     },
     "execution_count": 41,
     "metadata": {},
     "output_type": "execute_result"
    }
   ],
   "source": [
    "checkout_purchase.head()"
   ]
  },
  {
   "cell_type": "code",
   "execution_count": 42,
   "metadata": {},
   "outputs": [
    {
     "name": "stdout",
     "output_type": "stream",
     "text": [
      "There are 101 timestamps are null in the column purchase_time.\n"
     ]
    }
   ],
   "source": [
    "purchase_time_null = len(checkout_purchase[checkout_purchase.purchase_time.isnull()])\n",
    "print(f'There are {purchase_time_null} timestamps are null in the column purchase_time.')"
   ]
  },
  {
   "cell_type": "code",
   "execution_count": 44,
   "metadata": {},
   "outputs": [
    {
     "name": "stdout",
     "output_type": "stream",
     "text": [
      "16.89% of the users proceeded to checkout but ended up not purchasing.\n"
     ]
    }
   ],
   "source": [
    "# Percentage of users who proceed to checkout but ended up not purchasing\n",
    "checkout_not_purchase_percent = (float(purchase_time_null) / len(checkout_purchase)) * 100\n",
    "print(f'{checkout_not_purchase_percent:.2f}% of the users proceeded to checkout but ended up not purchasing.')"
   ]
  },
  {
   "cell_type": "markdown",
   "metadata": {},
   "source": [
    "### Which step of the funnel is weakest (i.e., has the highest percentage of users not completing it)?\n",
    "- **82.60%** of the users visited CoolTShirts.com but ended up not placing a t-shirt in their cart.\n",
    "- **25.31%** of the users placed a t-shirt in their cart but did not proceed to checkout.\n",
    "- **16.89%** of the users proceeded to checkout but ended up not purchasing.\n",
    "> The first step *(from visit to cart)* is the weakest step of the funnel."
   ]
  },
  {
   "cell_type": "markdown",
   "metadata": {},
   "source": [
    "## Task 5: Merge All Together\n",
    "Add a column that is the difference between purchase_time and visit_time. Compute the average time from initial visit to final purchase.\n"
   ]
  },
  {
   "cell_type": "code",
   "execution_count": 37,
   "metadata": {},
   "outputs": [],
   "source": [
    "# Merge all together\n",
    "all_data = visits.merge(cart, how = 'left') \\\n",
    "\t\t\t.merge(checkout, how = 'left') \\\n",
    "\t\t\t.merge(purchase, how = 'left')"
   ]
  },
  {
   "cell_type": "code",
   "execution_count": 38,
   "metadata": {},
   "outputs": [
    {
     "data": {
      "text/html": [
       "<div>\n",
       "<style scoped>\n",
       "    .dataframe tbody tr th:only-of-type {\n",
       "        vertical-align: middle;\n",
       "    }\n",
       "\n",
       "    .dataframe tbody tr th {\n",
       "        vertical-align: top;\n",
       "    }\n",
       "\n",
       "    .dataframe thead th {\n",
       "        text-align: right;\n",
       "    }\n",
       "</style>\n",
       "<table border=\"1\" class=\"dataframe\">\n",
       "  <thead>\n",
       "    <tr style=\"text-align: right;\">\n",
       "      <th></th>\n",
       "      <th>user_id</th>\n",
       "      <th>visit_time</th>\n",
       "      <th>cart_time</th>\n",
       "      <th>checkout_time</th>\n",
       "      <th>purchase_time</th>\n",
       "    </tr>\n",
       "  </thead>\n",
       "  <tbody>\n",
       "    <tr>\n",
       "      <th>0</th>\n",
       "      <td>943647ef-3682-4750-a2e1-918ba6f16188</td>\n",
       "      <td>2017-04-07 15:14:00</td>\n",
       "      <td>NaT</td>\n",
       "      <td>NaT</td>\n",
       "      <td>NaT</td>\n",
       "    </tr>\n",
       "    <tr>\n",
       "      <th>1</th>\n",
       "      <td>0c3a3dd0-fb64-4eac-bf84-ba069ce409f2</td>\n",
       "      <td>2017-01-26 14:24:00</td>\n",
       "      <td>2017-01-26 14:44:00</td>\n",
       "      <td>2017-01-26 14:54:00</td>\n",
       "      <td>2017-01-26 15:08:00</td>\n",
       "    </tr>\n",
       "    <tr>\n",
       "      <th>2</th>\n",
       "      <td>6e0b2d60-4027-4d9a-babd-0e7d40859fb1</td>\n",
       "      <td>2017-08-20 08:23:00</td>\n",
       "      <td>2017-08-20 08:31:00</td>\n",
       "      <td>NaT</td>\n",
       "      <td>NaT</td>\n",
       "    </tr>\n",
       "    <tr>\n",
       "      <th>3</th>\n",
       "      <td>6879527e-c5a6-4d14-b2da-50b85212b0ab</td>\n",
       "      <td>2017-11-04 18:15:00</td>\n",
       "      <td>NaT</td>\n",
       "      <td>NaT</td>\n",
       "      <td>NaT</td>\n",
       "    </tr>\n",
       "    <tr>\n",
       "      <th>4</th>\n",
       "      <td>a84327ff-5daa-4ba1-b789-d5b4caf81e96</td>\n",
       "      <td>2017-02-27 11:25:00</td>\n",
       "      <td>NaT</td>\n",
       "      <td>NaT</td>\n",
       "      <td>NaT</td>\n",
       "    </tr>\n",
       "  </tbody>\n",
       "</table>\n",
       "</div>"
      ],
      "text/plain": [
       "                                user_id          visit_time  \\\n",
       "0  943647ef-3682-4750-a2e1-918ba6f16188 2017-04-07 15:14:00   \n",
       "1  0c3a3dd0-fb64-4eac-bf84-ba069ce409f2 2017-01-26 14:24:00   \n",
       "2  6e0b2d60-4027-4d9a-babd-0e7d40859fb1 2017-08-20 08:23:00   \n",
       "3  6879527e-c5a6-4d14-b2da-50b85212b0ab 2017-11-04 18:15:00   \n",
       "4  a84327ff-5daa-4ba1-b789-d5b4caf81e96 2017-02-27 11:25:00   \n",
       "\n",
       "            cart_time       checkout_time       purchase_time  \n",
       "0                 NaT                 NaT                 NaT  \n",
       "1 2017-01-26 14:44:00 2017-01-26 14:54:00 2017-01-26 15:08:00  \n",
       "2 2017-08-20 08:31:00                 NaT                 NaT  \n",
       "3                 NaT                 NaT                 NaT  \n",
       "4                 NaT                 NaT                 NaT  "
      ]
     },
     "execution_count": 38,
     "metadata": {},
     "output_type": "execute_result"
    }
   ],
   "source": [
    "all_data.head()"
   ]
  },
  {
   "cell_type": "code",
   "execution_count": 46,
   "metadata": {},
   "outputs": [],
   "source": [
    "# Add a column that is the difference between purchase_time and visit_time\n",
    "all_data['diff_purchase_visit_time'] = all_data.purchase_time - all_data.visit_time"
   ]
  },
  {
   "cell_type": "code",
   "execution_count": 47,
   "metadata": {},
   "outputs": [
    {
     "data": {
      "text/html": [
       "<div>\n",
       "<style scoped>\n",
       "    .dataframe tbody tr th:only-of-type {\n",
       "        vertical-align: middle;\n",
       "    }\n",
       "\n",
       "    .dataframe tbody tr th {\n",
       "        vertical-align: top;\n",
       "    }\n",
       "\n",
       "    .dataframe thead th {\n",
       "        text-align: right;\n",
       "    }\n",
       "</style>\n",
       "<table border=\"1\" class=\"dataframe\">\n",
       "  <thead>\n",
       "    <tr style=\"text-align: right;\">\n",
       "      <th></th>\n",
       "      <th>user_id</th>\n",
       "      <th>visit_time</th>\n",
       "      <th>cart_time</th>\n",
       "      <th>checkout_time</th>\n",
       "      <th>purchase_time</th>\n",
       "      <th>diff_purchase_visit_time</th>\n",
       "    </tr>\n",
       "  </thead>\n",
       "  <tbody>\n",
       "    <tr>\n",
       "      <th>0</th>\n",
       "      <td>943647ef-3682-4750-a2e1-918ba6f16188</td>\n",
       "      <td>2017-04-07 15:14:00</td>\n",
       "      <td>NaT</td>\n",
       "      <td>NaT</td>\n",
       "      <td>NaT</td>\n",
       "      <td>NaT</td>\n",
       "    </tr>\n",
       "    <tr>\n",
       "      <th>1</th>\n",
       "      <td>0c3a3dd0-fb64-4eac-bf84-ba069ce409f2</td>\n",
       "      <td>2017-01-26 14:24:00</td>\n",
       "      <td>2017-01-26 14:44:00</td>\n",
       "      <td>2017-01-26 14:54:00</td>\n",
       "      <td>2017-01-26 15:08:00</td>\n",
       "      <td>0 days 00:44:00</td>\n",
       "    </tr>\n",
       "    <tr>\n",
       "      <th>2</th>\n",
       "      <td>6e0b2d60-4027-4d9a-babd-0e7d40859fb1</td>\n",
       "      <td>2017-08-20 08:23:00</td>\n",
       "      <td>2017-08-20 08:31:00</td>\n",
       "      <td>NaT</td>\n",
       "      <td>NaT</td>\n",
       "      <td>NaT</td>\n",
       "    </tr>\n",
       "    <tr>\n",
       "      <th>3</th>\n",
       "      <td>6879527e-c5a6-4d14-b2da-50b85212b0ab</td>\n",
       "      <td>2017-11-04 18:15:00</td>\n",
       "      <td>NaT</td>\n",
       "      <td>NaT</td>\n",
       "      <td>NaT</td>\n",
       "      <td>NaT</td>\n",
       "    </tr>\n",
       "    <tr>\n",
       "      <th>4</th>\n",
       "      <td>a84327ff-5daa-4ba1-b789-d5b4caf81e96</td>\n",
       "      <td>2017-02-27 11:25:00</td>\n",
       "      <td>NaT</td>\n",
       "      <td>NaT</td>\n",
       "      <td>NaT</td>\n",
       "      <td>NaT</td>\n",
       "    </tr>\n",
       "  </tbody>\n",
       "</table>\n",
       "</div>"
      ],
      "text/plain": [
       "                                user_id          visit_time  \\\n",
       "0  943647ef-3682-4750-a2e1-918ba6f16188 2017-04-07 15:14:00   \n",
       "1  0c3a3dd0-fb64-4eac-bf84-ba069ce409f2 2017-01-26 14:24:00   \n",
       "2  6e0b2d60-4027-4d9a-babd-0e7d40859fb1 2017-08-20 08:23:00   \n",
       "3  6879527e-c5a6-4d14-b2da-50b85212b0ab 2017-11-04 18:15:00   \n",
       "4  a84327ff-5daa-4ba1-b789-d5b4caf81e96 2017-02-27 11:25:00   \n",
       "\n",
       "            cart_time       checkout_time       purchase_time  \\\n",
       "0                 NaT                 NaT                 NaT   \n",
       "1 2017-01-26 14:44:00 2017-01-26 14:54:00 2017-01-26 15:08:00   \n",
       "2 2017-08-20 08:31:00                 NaT                 NaT   \n",
       "3                 NaT                 NaT                 NaT   \n",
       "4                 NaT                 NaT                 NaT   \n",
       "\n",
       "  diff_purchase_visit_time  \n",
       "0                      NaT  \n",
       "1          0 days 00:44:00  \n",
       "2                      NaT  \n",
       "3                      NaT  \n",
       "4                      NaT  "
      ]
     },
     "execution_count": 47,
     "metadata": {},
     "output_type": "execute_result"
    }
   ],
   "source": [
    "# Check if the new column added\n",
    "all_data.head()"
   ]
  },
  {
   "cell_type": "code",
   "execution_count": 49,
   "metadata": {},
   "outputs": [
    {
     "name": "stdout",
     "output_type": "stream",
     "text": [
      "The average time from visit to purchase is 0 days 00:43:53.360160965.\n"
     ]
    }
   ],
   "source": [
    "# Average visit to purchase time\n",
    "avg_visit_purchase_time = all_data.diff_purchase_visit_time.mean()\n",
    "print(f'The average time from visit to purchase is {avg_visit_purchase_time}.')"
   ]
  }
 ],
 "metadata": {
  "kernelspec": {
   "display_name": "Python 3.9.7 ('base')",
   "language": "python",
   "name": "python3"
  },
  "language_info": {
   "codemirror_mode": {
    "name": "ipython",
    "version": 3
   },
   "file_extension": ".py",
   "mimetype": "text/x-python",
   "name": "python",
   "nbconvert_exporter": "python",
   "pygments_lexer": "ipython3",
   "version": "3.9.7"
  },
  "orig_nbformat": 4,
  "vscode": {
   "interpreter": {
    "hash": "2f6f713a73131929884107d5879e1415f96edbb4ada91f63cc7d284d9afa6fbd"
   }
  }
 },
 "nbformat": 4,
 "nbformat_minor": 2
}
